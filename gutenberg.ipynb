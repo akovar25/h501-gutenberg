{
 "cells": [
  {
   "cell_type": "code",
   "execution_count": 1,
   "id": "685b1941",
   "metadata": {},
   "outputs": [
    {
     "name": "stdout",
     "output_type": "stream",
     "text": [
      "\n",
      "# conda environments:\n",
      "#\n",
      "base                   C:\\Users\\kovar\\miniconda3\n",
      "h501-gutenberg       * C:\\Users\\kovar\\miniconda3\\envs\\h501-gutenberg\n",
      "my_env_name            C:\\Users\\kovar\\miniconda3\\envs\\my_env_name\n",
      "sports                 C:\\Users\\kovar\\miniconda3\\envs\\sports\n",
      "sports                 c:\\Users\\kovar\\miniconda3\\envs\\sports\n",
      "\n"
     ]
    }
   ],
   "source": [
    "!conda env list"
   ]
  },
  {
   "cell_type": "code",
   "execution_count": null,
   "id": "28702133",
   "metadata": {},
   "outputs": [],
   "source": []
  }
 ],
 "metadata": {
  "kernelspec": {
   "display_name": "h501-gutenberg",
   "language": "python",
   "name": "python3"
  },
  "language_info": {
   "codemirror_mode": {
    "name": "ipython",
    "version": 3
   },
   "file_extension": ".py",
   "mimetype": "text/x-python",
   "name": "python",
   "nbconvert_exporter": "python",
   "pygments_lexer": "ipython3",
   "version": "3.13.7"
  }
 },
 "nbformat": 4,
 "nbformat_minor": 5
}
